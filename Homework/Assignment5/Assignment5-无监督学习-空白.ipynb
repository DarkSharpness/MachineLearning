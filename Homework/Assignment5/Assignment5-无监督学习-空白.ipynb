{
 "cells": [
  {
   "attachments": {},
   "cell_type": "markdown",
   "metadata": {
    "id": "56351A872E6F418A8300CA6F4FFFFE65",
    "jupyter": {},
    "mdEditEnable": false,
    "notebookId": "60abbb8ae6e71a0017e2996b",
    "slideshow": {
     "slide_type": "slide"
    },
    "tags": []
   },
   "source": [
    "***注:Assignment5包含2个代码填空和1个问答题**"
   ]
  },
  {
   "cell_type": "markdown",
   "metadata": {
    "id": "A16634FF19C74B7C876011AB5206D816",
    "jupyter": {},
    "mdEditEnable": false,
    "slideshow": {
     "slide_type": "slide"
    },
    "tags": []
   },
   "source": [
    "## 无监督学习 (Unsupervised Learning)\n",
    "\n",
    "相关算法：\n",
    "1. K-means聚类\n",
    "2. PCA主成分分析"
   ]
  },
  {
   "cell_type": "markdown",
   "metadata": {
    "id": "529DE5089EE74DCC85A7010AF0E407D0",
    "jupyter": {},
    "mdEditEnable": false,
    "slideshow": {
     "slide_type": "slide"
    },
    "tags": []
   },
   "source": [
    "### Fashion-MNIST数据集(Fashion-MNIST Dataset)\n",
    "\n",
    "来源：[A MNIST-like fashion product database](https://github.com/zalandoresearch/fashion-mnist)\n",
    "\n",
    "Fashion-MNIST数据集由[Zalando](https://jobs.zalando.com/tech/)提出，与经典的[MNIST](http://yann.lecun.com/exdb/mnist/)数据集格式完全相同：包含10个种类，总计60000张训练图片和10000张测试图片，每张图片为28\\*28尺寸的灰度图片。"
   ]
  },
  {
   "cell_type": "code",
   "execution_count": null,
   "metadata": {
    "id": "0BC4C599E9074ED28E651AF02ACF9C45",
    "jupyter": {},
    "scrolled": false,
    "slideshow": {
     "slide_type": "slide"
    },
    "tags": []
   },
   "outputs": [],
   "source": [
    "import os\n",
    "import random\n",
    "import numpy as np\n",
    "\n",
    "def read_datasets(train_dir):\n",
    "        fd = open(os.path.join(train_dir, 'train-images-idx3-ubyte'))\n",
    "        loaded = np.fromfile(file=fd, dtype=np.uint8)\n",
    "        train_images = loaded[16:].reshape((60000, 28, 28, 1)).astype(np.float)\n",
    "        fd = open(os.path.join(train_dir, 'train-labels-idx1-ubyte'))\n",
    "        loaded = np.fromfile(file=fd, dtype=np.uint8)\n",
    "        train_labels = loaded[8:].reshape(60000).astype(np.int)\n",
    "        fd = open(os.path.join(train_dir, 't10k-images-idx3-ubyte'))\n",
    "        loaded = np.fromfile(file=fd, dtype=np.uint8)\n",
    "        test_images = loaded[16:].reshape((10000, 28, 28, 1)).astype(np.float)\n",
    "        fd = open(os.path.join(train_dir, 't10k-labels-idx1-ubyte'))\n",
    "        loaded = np.fromfile(file=fd, dtype=np.uint8)\n",
    "        test_labels = loaded[8:].reshape(10000).astype(np.int)\n",
    "        # shuffle image and label in same order\n",
    "        state = np.random.get_state()\n",
    "        np.random.shuffle(train_images)\n",
    "        np.random.set_state(state)\n",
    "        np.random.shuffle(train_labels)\n",
    "        state = np.random.get_state()\n",
    "        np.random.shuffle(test_images)\n",
    "        np.random.set_state(state)\n",
    "        np.random.shuffle(test_labels)\n",
    "        return train_images, train_labels,test_images, test_labels\n"
   ]
  },
  {
   "cell_type": "markdown",
   "metadata": {
    "id": "A9DB942B24CA4B2DBA1629F655CEF11C",
    "jupyter": {},
    "mdEditEnable": false,
    "slideshow": {
     "slide_type": "slide"
    },
    "tags": []
   },
   "source": [
    "读取所有数据，检查数据格式，所有图片均已向量化处理。"
   ]
  },
  {
   "cell_type": "code",
   "execution_count": null,
   "metadata": {
    "id": "42AD1C401FF94273B3E3E644BD444C66",
    "jupyter": {},
    "scrolled": false,
    "slideshow": {
     "slide_type": "slide"
    },
    "tags": []
   },
   "outputs": [],
   "source": [
    "X_train_all, y_train_all, X_test_all, y_test_all = read_datasets(\"./dataset/Assignment5/Fashion_MNIST8667\")\n",
    "X_train_all = X_train_all.reshape((X_train_all.shape[0], -1))\n",
    "X_test_all = X_test_all.reshape((X_test_all.shape[0], -1))\n",
    "\n",
    "print(X_train_all.shape, y_train_all.shape)\n",
    "print(X_test_all.shape, y_test_all.shape)"
   ]
  },
  {
   "cell_type": "markdown",
   "metadata": {
    "id": "91169693DBEE4B5A89275C722F2CF232",
    "jupyter": {},
    "mdEditEnable": false,
    "slideshow": {
     "slide_type": "slide"
    },
    "tags": []
   },
   "source": [
    "预览每种类别的部分图片。"
   ]
  },
  {
   "cell_type": "code",
   "execution_count": null,
   "metadata": {
    "id": "F2F9B1E01365453881B22610F8A65815",
    "jupyter": {},
    "scrolled": false,
    "slideshow": {
     "slide_type": "slide"
    },
    "tags": []
   },
   "outputs": [],
   "source": [
    "import matplotlib.pyplot as plt\n",
    "%matplotlib inline\n",
    "\n",
    "classes = ['T-shirt', 'Trouser', 'Pullover', 'Dress', 'Coat', 'Sandal', 'Shirt', 'Sneaker', 'Bag', 'Boot']\n",
    "num_classes = len(classes)\n",
    "samples_per_class = 7\n",
    "for y, cls in enumerate(classes):\n",
    "    idxs = np.flatnonzero(y_train_all == y)\n",
    "    idxs = np.random.choice(idxs, samples_per_class, replace=False)\n",
    "    for i, idx in enumerate(idxs):\n",
    "        plt_idx = i * num_classes + y + 1\n",
    "        plt.subplot(samples_per_class, num_classes, plt_idx)\n",
    "        plt.imshow(X_train_all[idx].reshape((28,28)),cmap=plt.cm.gray)\n",
    "        plt.axis('off')\n",
    "        if i == 0:\n",
    "            plt.title(cls)\n",
    "plt.show()"
   ]
  },
  {
   "cell_type": "markdown",
   "metadata": {
    "id": "16DC1242BC6D41B7AAFA45309B760690",
    "jupyter": {},
    "mdEditEnable": false,
    "slideshow": {
     "slide_type": "slide"
    },
    "tags": []
   },
   "source": [
    "我们选取其中的5个类别的图片进行K-means聚类学习。"
   ]
  },
  {
   "cell_type": "code",
   "execution_count": null,
   "metadata": {
    "id": "586EA3ECEC104C9EAC4DED95CFDECD41",
    "jupyter": {},
    "scrolled": false,
    "slideshow": {
     "slide_type": "slide"
    },
    "tags": []
   },
   "outputs": [],
   "source": [
    "n = 5\n",
    "train_mask = (y_train_all <=4)\n",
    "test_mask= (y_test_all <=4)\n",
    "X_train = X_train_all[train_mask]\n",
    "y_train = y_train_all[train_mask]\n",
    "X_test = X_test_all[test_mask]\n",
    "y_test = y_test_all[test_mask]\n",
    "    \n",
    "print(X_train.shape, y_train.shape)\n",
    "print(X_test.shape, y_test.shape)"
   ]
  },
  {
   "cell_type": "markdown",
   "metadata": {
    "id": "9C854A3288224E3FB295DCA39C5C6CB2",
    "jupyter": {},
    "mdEditEnable": false,
    "slideshow": {
     "slide_type": "slide"
    },
    "tags": []
   },
   "source": [
    "### K-means聚类算法(k-means Clustering)\n",
    "\n",
    "实现最基本的K-means聚类算法。\n",
    "\n",
    "算法流程：\n",
    "1. 提供所需簇(cluster)的数量k。\n",
    "2. 随机选取k个实例作为种子节点，即作为每个簇的质心(centroid)。\n",
    "3. 迭代以下步骤：\n",
    "\t* 将每实例分配给最近质心相关联的簇。\n",
    "\t*\t重新估计每个簇的质心。\n",
    "4. 当聚类收敛时停止，或者在经过固定次数的迭代之后。\n",
    "\n",
    "**TODO：你需要补全K_Means类中fit函数的代码实现**\n",
    "\n",
    "代码解释：\n",
    "1. K_Means类中n_clusters变量为算法流程步骤1中的k，centroids为算法流程步骤2中的质心。\n",
    "2. fit函数参数列表中的max_iter为算法流程步骤4中的最大迭代次数，epsilon为收敛的阈值。\n",
    "\n",
    "要求：\n",
    "1. 实现算法流程中的所有步骤，包括质心的随机选取，迭代的收敛控制。\n",
    "2. 对fit函数的返回值没有特别要求，只需要将质心迭代结果存于centroids中，用于predict函数调用。\n",
    "3. 对质心的距离函数没有特别要求，可以尝试各种距离函数。\n",
    "\n"
   ]
  },
  {
   "cell_type": "code",
   "execution_count": null,
   "metadata": {
    "collapsed": true,
    "id": "101DCE9A73534CDB9E53519AD6F6DB14",
    "jupyter": {},
    "scrolled": false,
    "slideshow": {
     "slide_type": "slide"
    },
    "tags": []
   },
   "outputs": [],
   "source": [
    "class K_Means:\n",
    "    def __init__(self, n_clusters=5, metric='euclidean'):\n",
    "        self.n_clusters = n_clusters\n",
    "        self.centroids = None\n",
    "        self.metric = metric\n",
    "\n",
    "    def fit(self, X, max_iter=300, epsilon=0.001):\n",
    "        np.random.seed(114514)\n",
    "        self.centroids = X[np.random.choice(X.shape[0], self.n_clusters, replace=False)]\n",
    "        for _ in range(max_iter):\n",
    "            labels = self.predict(X)\n",
    "            new_centroids = np.array([np.mean(X[labels == i], axis=0) for i in range(self.n_clusters)])\n",
    "            centroid_changes = np.array(\n",
    "                [self.distance(np.array([centroid]), new, self.metric)[0]\n",
    "                    for centroid, new in zip(self.centroids, new_centroids)])\n",
    "            if np.all(centroid_changes < epsilon):\n",
    "                break\n",
    "            self.centroids = new_centroids\n",
    "\n",
    "    def predict(self, X):\n",
    "        return np.array([np.argmin(self.distance(self.centroids, X[i], self.metric)) for i in range(X.shape[0])])\n",
    "\n",
    "    @staticmethod\n",
    "    def distance(centroids, point, metric):\n",
    "        if metric == 'euclidean':\n",
    "            return np.sum((centroids - point) ** 2, axis=1)\n",
    "        elif metric == 'manhattan':\n",
    "            return np.sum(np.abs(centroids - point), axis=1)\n",
    "        else:\n",
    "            raise ValueError(\"Invalid metric\")"
   ]
  },
  {
   "cell_type": "markdown",
   "metadata": {
    "id": "51C70BDD33334E59A811E448C1421761",
    "jupyter": {},
    "mdEditEnable": false,
    "slideshow": {
     "slide_type": "slide"
    },
    "tags": []
   },
   "source": [
    "在测试数据集上进行测试，并输出K-means聚类算法聚类分布。"
   ]
  },
  {
   "cell_type": "code",
   "execution_count": null,
   "metadata": {
    "id": "54C16178136E4289849ABD755A15A5B8",
    "jupyter": {},
    "scrolled": false,
    "slideshow": {
     "slide_type": "slide"
    },
    "tags": []
   },
   "outputs": [],
   "source": [
    "k_means = K_Means(n_clusters=n)\n",
    "k_means.fit(X_train, max_iter=300, epsilon=0.001)\n",
    "y_predicted = k_means.predict(X_test)\n",
    "result = np.zeros((n, n), dtype=int)\n",
    "for i in range(X_test.shape[0]):\n",
    "    result[y_test[i]][y_predicted[i]] += 1\n",
    "print(result)\n",
    "result = result * 1.0\n",
    "for i in range(n):\n",
    "    result[i] /= np.sum(result[i])\n",
    "print(result)"
   ]
  },
  {
   "cell_type": "markdown",
   "metadata": {
    "id": "851B61CF700B42E99EED05A89D806A3C",
    "jupyter": {},
    "mdEditEnable": false,
    "slideshow": {
     "slide_type": "slide"
    },
    "tags": []
   },
   "source": [
    "通过可视化直观表现聚类的分布情况。"
   ]
  },
  {
   "cell_type": "code",
   "execution_count": null,
   "metadata": {
    "id": "9CA003ADD549448E83705206C3BD750B",
    "jupyter": {},
    "scrolled": false,
    "slideshow": {
     "slide_type": "slide"
    },
    "tags": []
   },
   "outputs": [],
   "source": [
    "plt.imshow(result)\n",
    "plt.colorbar()\n",
    "plt.show()"
   ]
  },
  {
   "cell_type": "markdown",
   "metadata": {
    "id": "007B6D6A97FF417282953E0044F70A0B",
    "jupyter": {},
    "mdEditEnable": false,
    "slideshow": {
     "slide_type": "slide"
    },
    "tags": []
   },
   "source": [
    "由于K-means聚类算法属于无监督学习算法，我们无法知晓每个质心和真实分类的对应关系，没有直观的正确率概念。这里我们假设最终每个质心分别与真实分类之间是一一对应关系，并通过枚举其对应关系得到一个自定义的正确率。\n",
    "\n",
    "**最终你实现的K-means聚类算法应该达到50%的正确率。**\n",
    "\n",
    "最终的学习结果可能存在一定的波动性。"
   ]
  },
  {
   "cell_type": "code",
   "execution_count": null,
   "metadata": {
    "id": "4E682BDC188540948941216537619764",
    "jupyter": {},
    "scrolled": false,
    "slideshow": {
     "slide_type": "slide"
    },
    "tags": []
   },
   "outputs": [],
   "source": [
    "from itertools import permutations as perm\n",
    "\n",
    "score = 0\n",
    "for p in list(perm([i for i in range(n)])):\n",
    "    s = 0\n",
    "    for k in range(n):\n",
    "        s += result[k][p[k]]\n",
    "    score = max(score, s)\n",
    "print(score / np.sum(result))"
   ]
  },
  {
   "cell_type": "markdown",
   "metadata": {
    "id": "C349E8C45FBD47EAB77C26506502DA98",
    "jupyter": {},
    "mdEditEnable": false,
    "notebookId": "60abbb8ae6e71a0017e2996b",
    "slideshow": {
     "slide_type": "slide"
    },
    "tags": []
   },
   "source": [
    "#### Question1： 对于如何改进K-means聚类算法，例如迭代速度、稳定性、避免局部最优等方面，你有什么想法？\n",
    "\n",
    "#### Answer：\n",
    "\n",
    "首先, 我觉得可以用高效的数据结构, 比如 KD-Tree, 来提高迭代速度. 其次, 可以使用更复杂的初始化方法, 比如 K-means++, 来提高稳定性。最后, 可以多次运行算法, 每次使用不同的初始质心, 然后选择最好的结果. 同时, 我觉得也可以用模拟退火这类算法来避免陷入局部最优。\n"
   ]
  },
  {
   "cell_type": "markdown",
   "metadata": {
    "id": "112FAC422F6947799EAD4213FE758239",
    "jupyter": {},
    "mdEditEnable": false,
    "slideshow": {
     "slide_type": "slide"
    },
    "tags": []
   },
   "source": [
    "### PCA主成分分析(Principal Components Analysis)\n",
    "\n",
    "基于特征值分解协方差矩阵方法实现PCA算法。\n",
    "\n",
    "算法流程：\n",
    "1. 确定原矩阵$\\mathbf{X}_{n \\times m}$以及主成分数量k。\n",
    "2. 对$\\mathbf{X}$的每一维去中心化，即减掉各自维度的平均值。\n",
    "3. 计算协方差矩阵$\\frac{1}{n}\\mathbf{X}^T\\mathbf{X}$的特征值和特征向量。\n",
    "4. 选取k个最大的特征值对应的特征向量，组成降维投影矩阵。\n",
    "5. 对原矩阵进行降维处理并输出，维度为$n \\times k$。\n",
    "\n",
    "**TODO：你需要补全pca函数的代码实现**\n",
    "\n",
    "代码解释：\n",
    "1. pca函数参数列表中的X和k为PCA主成分分析算法流程的步骤1中的原矩阵$\\mathbf{X}_{n \\times m}$以及主成分数量k。\n",
    "2. 函数返回值中的pca_result是步骤5中维度为$n \\times k$的输出\n",
    "\n",
    "\n",
    "要求：\n",
    "1. 可以使用numpy库中的特征值和特征向量计算函数，但不允许直接调用sklearn库中的PCA相关函数。\n",
    "2. 可以不用统一每个维度的方差。"
   ]
  },
  {
   "cell_type": "code",
   "execution_count": null,
   "metadata": {
    "collapsed": true,
    "id": "8EA0D60DFA9C4EBD8F28635442C55234",
    "jupyter": {},
    "scrolled": false,
    "slideshow": {
     "slide_type": "slide"
    },
    "tags": []
   },
   "outputs": [],
   "source": [
    "def pca(X, k):\n",
    "  #############################################################################\n",
    "  # TODO:                                                                     #\n",
    "  # Implement the pca function                                                #\n",
    "  #############################################################################\n",
    "\n",
    "    mean = np.mean(X, axis=0)\n",
    "    X = X - mean\n",
    "    cov = np.cov(X.T)\n",
    "    eigenvalues, eigenvectors = np.linalg.eig(cov)\n",
    "    indices = np.argsort(-eigenvalues)\n",
    "    projection = np.dot(X, eigenvectors[:, indices[:k]])\n",
    "    return projection\n",
    "\n",
    "  #############################################################################\n",
    "  #                             END OF YOUR CODE                              #\n",
    "  #############################################################################\n",
    "  "
   ]
  },
  {
   "cell_type": "markdown",
   "metadata": {
    "id": "460BC024A88B4193B40F28AE1F86BE7B",
    "jupyter": {},
    "mdEditEnable": false,
    "slideshow": {
     "slide_type": "slide"
    },
    "tags": []
   },
   "source": [
    "对PCA主成分分析算法的结果进行可视化处理。"
   ]
  },
  {
   "cell_type": "code",
   "execution_count": null,
   "metadata": {
    "id": "4A78E713093B4F5BA9CDA8F8E1FB1D6F",
    "jupyter": {},
    "scrolled": false,
    "slideshow": {
     "slide_type": "slide"
    },
    "tags": []
   },
   "outputs": [],
   "source": [
    "X_input = np.concatenate([X_test, k_means.centroids])\n",
    "X_pca = pca(X_input, 2)\n",
    "print(X_pca.shape)\n",
    "color = ['r', 'b', 'g', 'y', 'c']\n",
    "for i in range(n):\n",
    "    x_list = []\n",
    "    y_list = []\n",
    "    for j in range(X_test.shape[0]):\n",
    "        if y_predicted[j] == i:\n",
    "            x_list.append(X_pca[j][0])\n",
    "            y_list.append(X_pca[j][1])\n",
    "    plt.plot(x_list, y_list, '.', color=color[i])\n",
    "    plt.plot([X_pca[- n + i][0]], [X_pca[- n + i][1]], 's', color='k')\n",
    "plt.show()"
   ]
  },
  {
   "cell_type": "markdown",
   "metadata": {
    "id": "9EFCB5FAB1A04BCA8A19E3D3AA43FCF9",
    "jupyter": {},
    "mdEditEnable": false,
    "slideshow": {
     "slide_type": "slide"
    },
    "tags": []
   },
   "source": [
    "与sklearn库中的PCA实现对比。\n",
    "\n",
    "**最终你实现的PCA主成分分析算法的结果应该与sklearn库的实现相似。**\n",
    "\n",
    "可能会存在旋转、缩放、镜像等差异，但拓扑关系应该保持一致。"
   ]
  },
  {
   "cell_type": "code",
   "execution_count": null,
   "metadata": {
    "id": "56207BB1F54A4D4685E3E59B3A9BF4EA",
    "jupyter": {},
    "scrolled": false,
    "slideshow": {
     "slide_type": "slide"
    },
    "tags": []
   },
   "outputs": [],
   "source": [
    "from sklearn.decomposition import PCA\n",
    "\n",
    "X_input = np.concatenate([X_test, k_means.centroids])\n",
    "X_pca = PCA(2).fit_transform(X_input)\n",
    "color = ['r', 'b', 'g', 'y', 'c']\n",
    "for i in range(n):\n",
    "    x_list = []\n",
    "    y_list = []\n",
    "    for j in range(X_test.shape[0]):\n",
    "        if y_predicted[j] == i:\n",
    "            x_list.append(X_pca[j][0])\n",
    "            y_list.append(X_pca[j][1])\n",
    "    plt.plot(x_list, y_list, '.', color=color[i])\n",
    "    plt.plot([X_pca[- n + i][0]], [X_pca[- n + i][1]], 's', color='k')\n",
    "plt.show()"
   ]
  }
 ],
 "metadata": {
  "kernelspec": {
   "display_name": "Python 3",
   "language": "python",
   "name": "python3"
  },
  "language_info": {
   "codemirror_mode": {
    "name": "ipython",
    "version": 3
   },
   "file_extension": ".py",
   "mimetype": "text/x-python",
   "name": "python",
   "nbconvert_exporter": "python",
   "pygments_lexer": "ipython3",
   "version": "3.11.0"
  }
 },
 "nbformat": 4,
 "nbformat_minor": 1
}
